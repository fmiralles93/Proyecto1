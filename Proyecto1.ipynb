{
 "cells": [
  {
   "cell_type": "code",
   "execution_count": 2,
   "metadata": {},
   "outputs": [
    {
     "data": {
      "text/plain": [
       "<RoboBrowser url=http://www.emol.com/noticias/Deportes/2018/07/15/913421/Francia-primero-y-campeon-Panama-el-ultimo-El-ranking-de-los-equipos-en-el-Mundial-de-Rusia-2018.html>"
      ]
     },
     "execution_count": 2,
     "metadata": {},
     "output_type": "execute_result"
    }
   ],
   "source": [
    "from robobrowser import RoboBrowser\n",
    "import folium\n",
    "import geocoder\n",
    "import pandas\n",
    "browser = RoboBrowser(parser='html5lib')\n",
    "url = 'http://www.emol.com/noticias/Deportes/2018/07/15/913421/Francia-primero-y-campeon-Panama-el-ultimo-El-ranking-de-los-equipos-en-el-Mundial-de-Rusia-2018.html'\n",
    "browser.open(url)\n",
    "browser"
   ]
  },
  {
   "cell_type": "code",
   "execution_count": 3,
   "metadata": {},
   "outputs": [
    {
     "data": {
      "text/plain": [
       "<div id=\"nota_tabla_emol\"><table cellspacing=\"0\" class=\"tablaennoticia\" id=\"emolmlt-pulsar\" width=\"100%\"> <thead> <tr> <th colspan=\"4\">Final</th> </tr> <tr> <td width=\"2%\">1.-</td> <td width=\"78%\">Francia</td> <td width=\"11%\">19 pts</td> <td width=\"9%\">dif: 8</td> </tr> <tr> <td width=\"2%\">2.-</td> <td width=\"78%\">Croacia</td> <td width=\"11%\">14 pts</td> <td width=\"9%\">dif: 5</td> </tr> <tr> <th colspan=\"4\">Semifinal</th> </tr> <tr> <td>3.-</td> <td>Bélgica</td> <td>18 pts</td> <td>dif: 10</td> </tr> <tr> <td>4.-</td> <td>Inglaterra</td> <td>10 pts</td> <td>dif: 4</td> </tr> <tr> <th colspan=\"4\">Cuartos de final</th> </tr> <tr> <td>5.-</td> <td>Uruguay</td> <td>12 pts</td> <td>dif: 4</td> </tr> <tr> <td>6.-</td> <td>Brasil</td> <td>10 pts</td> <td>dif: 5</td> </tr> <tr> <td>7.-</td> <td>Suecia</td> <td>9 pts</td> <td>dif: 2</td> </tr> <tr> <td>8.-</td> <td>Rusia</td> <td>8 pts</td> <td>dif: 4</td> </tr> <tr> <th colspan=\"4\">Octavos de final</th> </tr> <tr> <td>9.-</td> <td>Colombia</td> <td>7 pts</td> <td>dif: 3</td> </tr> <tr> <td>10.-</td> <td>España</td> <td>6 pts</td> <td>dif: 1</td> </tr> <tr> <td>11.-</td> <td>Dinamarca</td> <td>6 pts</td> <td>dif: 1</td> </tr> <tr> <td>12.-</td> <td>México</td> <td>6 pts</td> <td>dif: 3</td> </tr> <tr> <td>13.-</td> <td>Portugal</td> <td>5 pts</td> <td>dif: 0</td> </tr> <tr> <td>14.-</td> <td>Suiza</td> <td>5 pts</td> <td>dif: 0</td> </tr> <tr> <td>15.-</td> <td>Japón</td> <td>4 pts</td> <td>dif: -1</td> </tr> <tr> <td>16.-</td> <td>Argentina</td> <td>4 pts</td> <td>dif: -3</td> </tr> <tr> <th colspan=\"4\">Fase de grupos</th> </tr> <tr> <td>17.-</td> <td>Senegal</td> <td>4 pts</td> <td>dif: 0</td> </tr> <tr> <td>18.-</td> <td>Irán</td> <td>4 pts</td> <td>dif: 0</td> </tr><tr> <td>19.-</td> <td>Corea del Sur</td> <td>3 pts</td> <td>dif: 0</td> </tr> <tr> <td>20.-</td> <td>Perú</td> <td>3 pts</td> <td>dif: 0</td> </tr> <tr> <td>21.-</td> <td>Nigeria</td> <td>3 pts</td> <td>dif: -1</td> </tr> <tr> <td>22.-</td> <td>Alemania</td> <td>3 pts</td> <td>dif: -2</td> </tr> <tr> <td>23.-</td> <td>Serbia</td> <td>3 pts</td> <td>dif: -2</td> </tr> <tr> <td>24.-</td> <td>Túnez</td> <td>3 pts</td> <td>dif: -3</td> </tr> <tr> <td>25.-</td> <td>Polonia</td> <td>3 pts</td> <td>dif: -3</td> </tr> <tr> <td>26.-</td> <td>Arabia Saudita</td> <td>3 pts</td> <td>dif: -5</td> </tr> <tr> <td>27.-</td> <td>Marruecos</td> <td>1 pts</td> <td>dif: -2</td> </tr> <tr> <td>28.-</td> <td>Islandia</td> <td>1 pts</td> <td>dif: -3</td> </tr> <tr> <td>29.-</td> <td>Costa Rica</td> <td>1 pts</td> <td>dif: -3</td> </tr> <tr> <td>30.-</td> <td>Australia</td> <td>1 pts</td> <td>dif: -3</td> </tr> <tr> <td>31.-</td> <td>Egipto</td> <td>0 pts</td> <td>dif: -4</td> </tr> <tr> <td>32.-</td> <td>Panamá</td> <td>0 pts</td> <td>dif: -9</td> </tr>  </thead><tbody> </tbody></table><div class=\"fuente-tabla\"></div></div>"
      ]
     },
     "execution_count": 3,
     "metadata": {},
     "output_type": "execute_result"
    }
   ],
   "source": [
    "browser.select(\"#nota_tabla_emol\")[0]"
   ]
  },
  {
   "cell_type": "code",
   "execution_count": 4,
   "metadata": {},
   "outputs": [
    {
     "data": {
      "text/plain": [
       "'<div id=\"nota_tabla_emol\"><table cellspacing=\"0\" class=\"tablaennoticia\" id=\"emolmlt-pulsar\" width=\"100%\"> <thead> <tr> <th colspan=\"4\">Final</th> </tr> <tr> <td width=\"2%\">1.-</td> <td width=\"78%\">Francia</td> <td width=\"11%\">19 pts</td> <td width=\"9%\">dif: 8</td> </tr> <tr> <td width=\"2%\">2.-</td> <td width=\"78%\">Croacia</td> <td width=\"11%\">14 pts</td> <td width=\"9%\">dif: 5</td> </tr> <tr> <th colspan=\"4\">Semifinal</th> </tr> <tr> <td>3.-</td> <td>Bélgica</td> <td>18 pts</td> <td>dif: 10</td> </tr> <tr> <td>4.-</td> <td>Inglaterra</td> <td>10 pts</td> <td>dif: 4</td> </tr> <tr> <th colspan=\"4\">Cuartos de final</th> </tr> <tr> <td>5.-</td> <td>Uruguay</td> <td>12 pts</td> <td>dif: 4</td> </tr> <tr> <td>6.-</td> <td>Brasil</td> <td>10 pts</td> <td>dif: 5</td> </tr> <tr> <td>7.-</td> <td>Suecia</td> <td>9 pts</td> <td>dif: 2</td> </tr> <tr> <td>8.-</td> <td>Rusia</td> <td>8 pts</td> <td>dif: 4</td> </tr> <tr> <th colspan=\"4\">Octavos de final</th> </tr> <tr> <td>9.-</td> <td>Colombia</td'"
      ]
     },
     "execution_count": 4,
     "metadata": {},
     "output_type": "execute_result"
    }
   ],
   "source": [
    "table=browser.select('#nota_tabla_emol') [0]\n",
    "t=table.__str__()\n",
    "t[:1000]"
   ]
  },
  {
   "cell_type": "code",
   "execution_count": 6,
   "metadata": {},
   "outputs": [
    {
     "data": {
      "text/html": [
       "<div>\n",
       "<style scoped>\n",
       "    .dataframe tbody tr th:only-of-type {\n",
       "        vertical-align: middle;\n",
       "    }\n",
       "\n",
       "    .dataframe tbody tr th {\n",
       "        vertical-align: top;\n",
       "    }\n",
       "\n",
       "    .dataframe thead th {\n",
       "        text-align: right;\n",
       "    }\n",
       "</style>\n",
       "<table border=\"1\" class=\"dataframe\">\n",
       "  <thead>\n",
       "    <tr style=\"text-align: right;\">\n",
       "      <th></th>\n",
       "      <th>Final</th>\n",
       "      <th>Unnamed: 1</th>\n",
       "      <th>Unnamed: 2</th>\n",
       "      <th>Unnamed: 3</th>\n",
       "    </tr>\n",
       "  </thead>\n",
       "  <tbody>\n",
       "    <tr>\n",
       "      <th>0</th>\n",
       "      <td>1.-</td>\n",
       "      <td>Francia</td>\n",
       "      <td>19 pts</td>\n",
       "      <td>dif: 8</td>\n",
       "    </tr>\n",
       "    <tr>\n",
       "      <th>1</th>\n",
       "      <td>2.-</td>\n",
       "      <td>Croacia</td>\n",
       "      <td>14 pts</td>\n",
       "      <td>dif: 5</td>\n",
       "    </tr>\n",
       "    <tr>\n",
       "      <th>2</th>\n",
       "      <td>Semifinal</td>\n",
       "      <td>NaN</td>\n",
       "      <td>NaN</td>\n",
       "      <td>NaN</td>\n",
       "    </tr>\n",
       "    <tr>\n",
       "      <th>3</th>\n",
       "      <td>3.-</td>\n",
       "      <td>Bélgica</td>\n",
       "      <td>18 pts</td>\n",
       "      <td>dif: 10</td>\n",
       "    </tr>\n",
       "    <tr>\n",
       "      <th>4</th>\n",
       "      <td>4.-</td>\n",
       "      <td>Inglaterra</td>\n",
       "      <td>10 pts</td>\n",
       "      <td>dif: 4</td>\n",
       "    </tr>\n",
       "  </tbody>\n",
       "</table>\n",
       "</div>"
      ],
      "text/plain": [
       "       Final  Unnamed: 1 Unnamed: 2 Unnamed: 3\n",
       "0        1.-     Francia     19 pts     dif: 8\n",
       "1        2.-     Croacia     14 pts     dif: 5\n",
       "2  Semifinal         NaN        NaN        NaN\n",
       "3        3.-     Bélgica     18 pts    dif: 10\n",
       "4        4.-  Inglaterra     10 pts     dif: 4"
      ]
     },
     "execution_count": 6,
     "metadata": {},
     "output_type": "execute_result"
    }
   ],
   "source": [
    "df=pandas.read_html(t, header=0)[0]\n",
    "df.head()"
   ]
  },
  {
   "cell_type": "code",
   "execution_count": 7,
   "metadata": {},
   "outputs": [
    {
     "data": {
      "text/html": [
       "<div>\n",
       "<style scoped>\n",
       "    .dataframe tbody tr th:only-of-type {\n",
       "        vertical-align: middle;\n",
       "    }\n",
       "\n",
       "    .dataframe tbody tr th {\n",
       "        vertical-align: top;\n",
       "    }\n",
       "\n",
       "    .dataframe thead th {\n",
       "        text-align: right;\n",
       "    }\n",
       "</style>\n",
       "<table border=\"1\" class=\"dataframe\">\n",
       "  <thead>\n",
       "    <tr style=\"text-align: right;\">\n",
       "      <th></th>\n",
       "      <th>Final</th>\n",
       "      <th>Unnamed: 1</th>\n",
       "      <th>Unnamed: 2</th>\n",
       "      <th>Unnamed: 3</th>\n",
       "    </tr>\n",
       "  </thead>\n",
       "  <tbody>\n",
       "    <tr>\n",
       "      <th>0</th>\n",
       "      <td>1.-</td>\n",
       "      <td>Francia</td>\n",
       "      <td>19 pts</td>\n",
       "      <td>dif: 8</td>\n",
       "    </tr>\n",
       "    <tr>\n",
       "      <th>1</th>\n",
       "      <td>2.-</td>\n",
       "      <td>Croacia</td>\n",
       "      <td>14 pts</td>\n",
       "      <td>dif: 5</td>\n",
       "    </tr>\n",
       "    <tr>\n",
       "      <th>3</th>\n",
       "      <td>3.-</td>\n",
       "      <td>Bélgica</td>\n",
       "      <td>18 pts</td>\n",
       "      <td>dif: 10</td>\n",
       "    </tr>\n",
       "    <tr>\n",
       "      <th>4</th>\n",
       "      <td>4.-</td>\n",
       "      <td>Inglaterra</td>\n",
       "      <td>10 pts</td>\n",
       "      <td>dif: 4</td>\n",
       "    </tr>\n",
       "    <tr>\n",
       "      <th>6</th>\n",
       "      <td>5.-</td>\n",
       "      <td>Uruguay</td>\n",
       "      <td>12 pts</td>\n",
       "      <td>dif: 4</td>\n",
       "    </tr>\n",
       "    <tr>\n",
       "      <th>7</th>\n",
       "      <td>6.-</td>\n",
       "      <td>Brasil</td>\n",
       "      <td>10 pts</td>\n",
       "      <td>dif: 5</td>\n",
       "    </tr>\n",
       "    <tr>\n",
       "      <th>8</th>\n",
       "      <td>7.-</td>\n",
       "      <td>Suecia</td>\n",
       "      <td>9 pts</td>\n",
       "      <td>dif: 2</td>\n",
       "    </tr>\n",
       "    <tr>\n",
       "      <th>9</th>\n",
       "      <td>8.-</td>\n",
       "      <td>Rusia</td>\n",
       "      <td>8 pts</td>\n",
       "      <td>dif: 4</td>\n",
       "    </tr>\n",
       "    <tr>\n",
       "      <th>11</th>\n",
       "      <td>9.-</td>\n",
       "      <td>Colombia</td>\n",
       "      <td>7 pts</td>\n",
       "      <td>dif: 3</td>\n",
       "    </tr>\n",
       "    <tr>\n",
       "      <th>12</th>\n",
       "      <td>10.-</td>\n",
       "      <td>España</td>\n",
       "      <td>6 pts</td>\n",
       "      <td>dif: 1</td>\n",
       "    </tr>\n",
       "    <tr>\n",
       "      <th>13</th>\n",
       "      <td>11.-</td>\n",
       "      <td>Dinamarca</td>\n",
       "      <td>6 pts</td>\n",
       "      <td>dif: 1</td>\n",
       "    </tr>\n",
       "    <tr>\n",
       "      <th>14</th>\n",
       "      <td>12.-</td>\n",
       "      <td>México</td>\n",
       "      <td>6 pts</td>\n",
       "      <td>dif: 3</td>\n",
       "    </tr>\n",
       "    <tr>\n",
       "      <th>15</th>\n",
       "      <td>13.-</td>\n",
       "      <td>Portugal</td>\n",
       "      <td>5 pts</td>\n",
       "      <td>dif: 0</td>\n",
       "    </tr>\n",
       "    <tr>\n",
       "      <th>16</th>\n",
       "      <td>14.-</td>\n",
       "      <td>Suiza</td>\n",
       "      <td>5 pts</td>\n",
       "      <td>dif: 0</td>\n",
       "    </tr>\n",
       "    <tr>\n",
       "      <th>17</th>\n",
       "      <td>15.-</td>\n",
       "      <td>Japón</td>\n",
       "      <td>4 pts</td>\n",
       "      <td>dif: -1</td>\n",
       "    </tr>\n",
       "    <tr>\n",
       "      <th>18</th>\n",
       "      <td>16.-</td>\n",
       "      <td>Argentina</td>\n",
       "      <td>4 pts</td>\n",
       "      <td>dif: -3</td>\n",
       "    </tr>\n",
       "    <tr>\n",
       "      <th>20</th>\n",
       "      <td>17.-</td>\n",
       "      <td>Senegal</td>\n",
       "      <td>4 pts</td>\n",
       "      <td>dif: 0</td>\n",
       "    </tr>\n",
       "    <tr>\n",
       "      <th>21</th>\n",
       "      <td>18.-</td>\n",
       "      <td>Irán</td>\n",
       "      <td>4 pts</td>\n",
       "      <td>dif: 0</td>\n",
       "    </tr>\n",
       "    <tr>\n",
       "      <th>22</th>\n",
       "      <td>19.-</td>\n",
       "      <td>Corea del Sur</td>\n",
       "      <td>3 pts</td>\n",
       "      <td>dif: 0</td>\n",
       "    </tr>\n",
       "    <tr>\n",
       "      <th>23</th>\n",
       "      <td>20.-</td>\n",
       "      <td>Perú</td>\n",
       "      <td>3 pts</td>\n",
       "      <td>dif: 0</td>\n",
       "    </tr>\n",
       "    <tr>\n",
       "      <th>24</th>\n",
       "      <td>21.-</td>\n",
       "      <td>Nigeria</td>\n",
       "      <td>3 pts</td>\n",
       "      <td>dif: -1</td>\n",
       "    </tr>\n",
       "    <tr>\n",
       "      <th>25</th>\n",
       "      <td>22.-</td>\n",
       "      <td>Alemania</td>\n",
       "      <td>3 pts</td>\n",
       "      <td>dif: -2</td>\n",
       "    </tr>\n",
       "    <tr>\n",
       "      <th>26</th>\n",
       "      <td>23.-</td>\n",
       "      <td>Serbia</td>\n",
       "      <td>3 pts</td>\n",
       "      <td>dif: -2</td>\n",
       "    </tr>\n",
       "    <tr>\n",
       "      <th>27</th>\n",
       "      <td>24.-</td>\n",
       "      <td>Túnez</td>\n",
       "      <td>3 pts</td>\n",
       "      <td>dif: -3</td>\n",
       "    </tr>\n",
       "    <tr>\n",
       "      <th>28</th>\n",
       "      <td>25.-</td>\n",
       "      <td>Polonia</td>\n",
       "      <td>3 pts</td>\n",
       "      <td>dif: -3</td>\n",
       "    </tr>\n",
       "    <tr>\n",
       "      <th>29</th>\n",
       "      <td>26.-</td>\n",
       "      <td>Arabia Saudita</td>\n",
       "      <td>3 pts</td>\n",
       "      <td>dif: -5</td>\n",
       "    </tr>\n",
       "    <tr>\n",
       "      <th>30</th>\n",
       "      <td>27.-</td>\n",
       "      <td>Marruecos</td>\n",
       "      <td>1 pts</td>\n",
       "      <td>dif: -2</td>\n",
       "    </tr>\n",
       "    <tr>\n",
       "      <th>31</th>\n",
       "      <td>28.-</td>\n",
       "      <td>Islandia</td>\n",
       "      <td>1 pts</td>\n",
       "      <td>dif: -3</td>\n",
       "    </tr>\n",
       "    <tr>\n",
       "      <th>32</th>\n",
       "      <td>29.-</td>\n",
       "      <td>Costa Rica</td>\n",
       "      <td>1 pts</td>\n",
       "      <td>dif: -3</td>\n",
       "    </tr>\n",
       "    <tr>\n",
       "      <th>33</th>\n",
       "      <td>30.-</td>\n",
       "      <td>Australia</td>\n",
       "      <td>1 pts</td>\n",
       "      <td>dif: -3</td>\n",
       "    </tr>\n",
       "    <tr>\n",
       "      <th>34</th>\n",
       "      <td>31.-</td>\n",
       "      <td>Egipto</td>\n",
       "      <td>0 pts</td>\n",
       "      <td>dif: -4</td>\n",
       "    </tr>\n",
       "    <tr>\n",
       "      <th>35</th>\n",
       "      <td>32.-</td>\n",
       "      <td>Panamá</td>\n",
       "      <td>0 pts</td>\n",
       "      <td>dif: -9</td>\n",
       "    </tr>\n",
       "  </tbody>\n",
       "</table>\n",
       "</div>"
      ],
      "text/plain": [
       "   Final      Unnamed: 1 Unnamed: 2 Unnamed: 3\n",
       "0    1.-         Francia     19 pts     dif: 8\n",
       "1    2.-         Croacia     14 pts     dif: 5\n",
       "3    3.-         Bélgica     18 pts    dif: 10\n",
       "4    4.-      Inglaterra     10 pts     dif: 4\n",
       "6    5.-         Uruguay     12 pts     dif: 4\n",
       "7    6.-          Brasil     10 pts     dif: 5\n",
       "8    7.-          Suecia      9 pts     dif: 2\n",
       "9    8.-           Rusia      8 pts     dif: 4\n",
       "11   9.-        Colombia      7 pts     dif: 3\n",
       "12  10.-          España      6 pts     dif: 1\n",
       "13  11.-       Dinamarca      6 pts     dif: 1\n",
       "14  12.-          México      6 pts     dif: 3\n",
       "15  13.-        Portugal      5 pts     dif: 0\n",
       "16  14.-           Suiza      5 pts     dif: 0\n",
       "17  15.-           Japón      4 pts    dif: -1\n",
       "18  16.-       Argentina      4 pts    dif: -3\n",
       "20  17.-         Senegal      4 pts     dif: 0\n",
       "21  18.-            Irán      4 pts     dif: 0\n",
       "22  19.-   Corea del Sur      3 pts     dif: 0\n",
       "23  20.-            Perú      3 pts     dif: 0\n",
       "24  21.-         Nigeria      3 pts    dif: -1\n",
       "25  22.-        Alemania      3 pts    dif: -2\n",
       "26  23.-          Serbia      3 pts    dif: -2\n",
       "27  24.-           Túnez      3 pts    dif: -3\n",
       "28  25.-         Polonia      3 pts    dif: -3\n",
       "29  26.-  Arabia Saudita      3 pts    dif: -5\n",
       "30  27.-       Marruecos      1 pts    dif: -2\n",
       "31  28.-        Islandia      1 pts    dif: -3\n",
       "32  29.-      Costa Rica      1 pts    dif: -3\n",
       "33  30.-       Australia      1 pts    dif: -3\n",
       "34  31.-          Egipto      0 pts    dif: -4\n",
       "35  32.-          Panamá      0 pts    dif: -9"
      ]
     },
     "execution_count": 7,
     "metadata": {},
     "output_type": "execute_result"
    }
   ],
   "source": [
    "datos_utiles=df.drop(df.index[[2,5,10,19]])\n",
    "datos_utiles"
   ]
  },
  {
   "cell_type": "code",
   "execution_count": 9,
   "metadata": {},
   "outputs": [
    {
     "data": {
      "text/plain": [
       "{'index': [0,\n",
       "  1,\n",
       "  3,\n",
       "  4,\n",
       "  6,\n",
       "  7,\n",
       "  8,\n",
       "  9,\n",
       "  11,\n",
       "  12,\n",
       "  13,\n",
       "  14,\n",
       "  15,\n",
       "  16,\n",
       "  17,\n",
       "  18,\n",
       "  20,\n",
       "  21,\n",
       "  22,\n",
       "  23,\n",
       "  24,\n",
       "  25,\n",
       "  26,\n",
       "  27,\n",
       "  28,\n",
       "  29,\n",
       "  30,\n",
       "  31,\n",
       "  32,\n",
       "  33,\n",
       "  34,\n",
       "  35],\n",
       " 'columns': ['Final', 'Unnamed: 1', 'Unnamed: 2', 'Unnamed: 3'],\n",
       " 'data': [['1.-', 'Francia', '19 pts', 'dif: 8'],\n",
       "  ['2.-', 'Croacia', '14 pts', 'dif: 5'],\n",
       "  ['3.-', 'Bélgica', '18 pts', 'dif: 10'],\n",
       "  ['4.-', 'Inglaterra', '10 pts', 'dif: 4'],\n",
       "  ['5.-', 'Uruguay', '12 pts', 'dif: 4'],\n",
       "  ['6.-', 'Brasil', '10 pts', 'dif: 5'],\n",
       "  ['7.-', 'Suecia', '9 pts', 'dif: 2'],\n",
       "  ['8.-', 'Rusia', '8 pts', 'dif: 4'],\n",
       "  ['9.-', 'Colombia', '7 pts', 'dif: 3'],\n",
       "  ['10.-', 'España', '6 pts', 'dif: 1'],\n",
       "  ['11.-', 'Dinamarca', '6 pts', 'dif: 1'],\n",
       "  ['12.-', 'México', '6 pts', 'dif: 3'],\n",
       "  ['13.-', 'Portugal', '5 pts', 'dif: 0'],\n",
       "  ['14.-', 'Suiza', '5 pts', 'dif: 0'],\n",
       "  ['15.-', 'Japón', '4 pts', 'dif: -1'],\n",
       "  ['16.-', 'Argentina', '4 pts', 'dif: -3'],\n",
       "  ['17.-', 'Senegal', '4 pts', 'dif: 0'],\n",
       "  ['18.-', 'Irán', '4 pts', 'dif: 0'],\n",
       "  ['19.-', 'Corea del Sur', '3 pts', 'dif: 0'],\n",
       "  ['20.-', 'Perú', '3 pts', 'dif: 0'],\n",
       "  ['21.-', 'Nigeria', '3 pts', 'dif: -1'],\n",
       "  ['22.-', 'Alemania', '3 pts', 'dif: -2'],\n",
       "  ['23.-', 'Serbia', '3 pts', 'dif: -2'],\n",
       "  ['24.-', 'Túnez', '3 pts', 'dif: -3'],\n",
       "  ['25.-', 'Polonia', '3 pts', 'dif: -3'],\n",
       "  ['26.-', 'Arabia Saudita', '3 pts', 'dif: -5'],\n",
       "  ['27.-', 'Marruecos', '1 pts', 'dif: -2'],\n",
       "  ['28.-', 'Islandia', '1 pts', 'dif: -3'],\n",
       "  ['29.-', 'Costa Rica', '1 pts', 'dif: -3'],\n",
       "  ['30.-', 'Australia', '1 pts', 'dif: -3'],\n",
       "  ['31.-', 'Egipto', '0 pts', 'dif: -4'],\n",
       "  ['32.-', 'Panamá', '0 pts', 'dif: -9']]}"
      ]
     },
     "execution_count": 9,
     "metadata": {},
     "output_type": "execute_result"
    }
   ],
   "source": [
    "d=datos_utiles.to_dict(orient='split')\n",
    "d"
   ]
  },
  {
   "cell_type": "code",
   "execution_count": 10,
   "metadata": {},
   "outputs": [
    {
     "data": {
      "text/plain": [
       "dict_keys(['index', 'columns', 'data'])"
      ]
     },
     "execution_count": 10,
     "metadata": {},
     "output_type": "execute_result"
    }
   ],
   "source": [
    "d.keys()"
   ]
  },
  {
   "cell_type": "code",
   "execution_count": 11,
   "metadata": {},
   "outputs": [
    {
     "data": {
      "text/plain": [
       "[['1.-', 'Francia', '19 pts', 'dif: 8'],\n",
       " ['2.-', 'Croacia', '14 pts', 'dif: 5'],\n",
       " ['3.-', 'Bélgica', '18 pts', 'dif: 10'],\n",
       " ['4.-', 'Inglaterra', '10 pts', 'dif: 4'],\n",
       " ['5.-', 'Uruguay', '12 pts', 'dif: 4'],\n",
       " ['6.-', 'Brasil', '10 pts', 'dif: 5'],\n",
       " ['7.-', 'Suecia', '9 pts', 'dif: 2'],\n",
       " ['8.-', 'Rusia', '8 pts', 'dif: 4'],\n",
       " ['9.-', 'Colombia', '7 pts', 'dif: 3'],\n",
       " ['10.-', 'España', '6 pts', 'dif: 1'],\n",
       " ['11.-', 'Dinamarca', '6 pts', 'dif: 1'],\n",
       " ['12.-', 'México', '6 pts', 'dif: 3'],\n",
       " ['13.-', 'Portugal', '5 pts', 'dif: 0'],\n",
       " ['14.-', 'Suiza', '5 pts', 'dif: 0'],\n",
       " ['15.-', 'Japón', '4 pts', 'dif: -1'],\n",
       " ['16.-', 'Argentina', '4 pts', 'dif: -3'],\n",
       " ['17.-', 'Senegal', '4 pts', 'dif: 0'],\n",
       " ['18.-', 'Irán', '4 pts', 'dif: 0'],\n",
       " ['19.-', 'Corea del Sur', '3 pts', 'dif: 0'],\n",
       " ['20.-', 'Perú', '3 pts', 'dif: 0'],\n",
       " ['21.-', 'Nigeria', '3 pts', 'dif: -1'],\n",
       " ['22.-', 'Alemania', '3 pts', 'dif: -2'],\n",
       " ['23.-', 'Serbia', '3 pts', 'dif: -2'],\n",
       " ['24.-', 'Túnez', '3 pts', 'dif: -3'],\n",
       " ['25.-', 'Polonia', '3 pts', 'dif: -3'],\n",
       " ['26.-', 'Arabia Saudita', '3 pts', 'dif: -5'],\n",
       " ['27.-', 'Marruecos', '1 pts', 'dif: -2'],\n",
       " ['28.-', 'Islandia', '1 pts', 'dif: -3'],\n",
       " ['29.-', 'Costa Rica', '1 pts', 'dif: -3'],\n",
       " ['30.-', 'Australia', '1 pts', 'dif: -3'],\n",
       " ['31.-', 'Egipto', '0 pts', 'dif: -4'],\n",
       " ['32.-', 'Panamá', '0 pts', 'dif: -9']]"
      ]
     },
     "execution_count": 11,
     "metadata": {},
     "output_type": "execute_result"
    }
   ],
   "source": [
    "d['data']"
   ]
  },
  {
   "cell_type": "code",
   "execution_count": 13,
   "metadata": {},
   "outputs": [
    {
     "name": "stdout",
     "output_type": "stream",
     "text": [
      "<[OVER_QUERY_LIMIT] Google - Geocode [empty]>\n"
     ]
    }
   ],
   "source": [
    "data=d['data']\n",
    "gc=geocoder.google('1.-, Francia, 19 pts, dif: 8')\n",
    "print (gc)"
   ]
  },
  {
   "cell_type": "code",
   "execution_count": 14,
   "metadata": {},
   "outputs": [
    {
     "name": "stdout",
     "output_type": "stream",
     "text": [
      "Francia\n",
      "[46.227638, 2.213749]\n",
      "Croacia\n",
      "[45.1, 15.2000001]\n",
      "Bélgica\n",
      "[50.503887, 4.469936]\n",
      "Inglaterra\n",
      "[52.3555177, -1.1743197]\n",
      "Uruguay\n",
      "[-32.522779, -55.765835]\n",
      "Brasil\n",
      "[-14.235004, -51.92528]\n",
      "Suecia\n",
      "None\n",
      "Rusia\n",
      "[61.52401, 105.318756]\n",
      "Colombia\n",
      "None\n",
      "España\n",
      "[40.46366700000001, -3.74922]\n",
      "Dinamarca\n",
      "[56.26392, 9.501785]\n",
      "México\n",
      "[23.634501, -102.552784]\n",
      "Portugal\n",
      "None\n",
      "Suiza\n",
      "[46.818188, 8.227511999999999]\n",
      "Japón\n",
      "[36.204824, 138.252924]\n",
      "Argentina\n",
      "[-38.416097, -63.61667199999999]\n",
      "Senegal\n",
      "[14.497401, -14.452362]\n",
      "Irán\n",
      "[32.427908, 53.688046]\n",
      "Corea del Sur\n",
      "[35.907757, 127.766922]\n",
      "Perú\n",
      "None\n",
      "Nigeria\n",
      "[9.081999, 8.675277]\n",
      "Alemania\n",
      "None\n",
      "Serbia\n",
      "[44.016521, 21.005859]\n",
      "Túnez\n",
      "None\n",
      "Polonia\n",
      "[51.919438, 19.145136]\n",
      "Arabia Saudita\n",
      "[23.885942, 45.079162]\n",
      "Marruecos\n",
      "[31.791702, -7.092619999999999]\n",
      "Islandia\n",
      "None\n",
      "Costa Rica\n",
      "[9.748916999999999, -83.753428]\n",
      "Australia\n",
      "None\n",
      "Egipto\n",
      "None\n",
      "Panamá\n",
      "None\n"
     ]
    }
   ],
   "source": [
    "l=[]\n",
    "for posicion, pais, puntos, diferencia in data:\n",
    "    lugar= pais\n",
    "    print(lugar)\n",
    "    ubicacion=geocoder.google(lugar).latlng\n",
    "    print(ubicacion)\n",
    "    try:\n",
    "        dato=[posicion, pais, puntos, diferencia, ubicacion]\n",
    "        if ubicacion != None:\n",
    "            l.append(dato)\n",
    "    except:\n",
    "        pass"
   ]
  },
  {
   "cell_type": "code",
   "execution_count": 15,
   "metadata": {},
   "outputs": [
    {
     "data": {
      "text/plain": [
       "[['1.-', 'Francia', '19 pts', 'dif: 8', [46.227638, 2.213749]],\n",
       " ['2.-', 'Croacia', '14 pts', 'dif: 5', [45.1, 15.2000001]],\n",
       " ['3.-', 'Bélgica', '18 pts', 'dif: 10', [50.503887, 4.469936]],\n",
       " ['4.-', 'Inglaterra', '10 pts', 'dif: 4', [52.3555177, -1.1743197]],\n",
       " ['5.-', 'Uruguay', '12 pts', 'dif: 4', [-32.522779, -55.765835]],\n",
       " ['6.-', 'Brasil', '10 pts', 'dif: 5', [-14.235004, -51.92528]],\n",
       " ['8.-', 'Rusia', '8 pts', 'dif: 4', [61.52401, 105.318756]],\n",
       " ['10.-', 'España', '6 pts', 'dif: 1', [40.46366700000001, -3.74922]],\n",
       " ['11.-', 'Dinamarca', '6 pts', 'dif: 1', [56.26392, 9.501785]],\n",
       " ['12.-', 'México', '6 pts', 'dif: 3', [23.634501, -102.552784]]]"
      ]
     },
     "execution_count": 15,
     "metadata": {},
     "output_type": "execute_result"
    }
   ],
   "source": [
    "l[:10]"
   ]
  },
  {
   "cell_type": "code",
   "execution_count": 16,
   "metadata": {},
   "outputs": [
    {
     "data": {
      "text/plain": [
       "22"
      ]
     },
     "execution_count": 16,
     "metadata": {},
     "output_type": "execute_result"
    }
   ],
   "source": [
    "len(l)"
   ]
  },
  {
   "cell_type": "code",
   "execution_count": 17,
   "metadata": {},
   "outputs": [
    {
     "data": {
      "text/html": [
       "<div style=\"width:100%;\"><div style=\"position:relative;width:100%;height:0;padding-bottom:60%;\"><iframe src=\"data:text/html;charset=utf-8;base64,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\" style=\"position:absolute;width:100%;height:100%;left:0;top:0;border:none !important;\" allowfullscreen webkitallowfullscreen mozallowfullscreen></iframe></div></div>"
      ],
      "text/plain": [
       "<folium.folium.Map at 0x1bf03f24780>"
      ]
     },
     "execution_count": 17,
     "metadata": {},
     "output_type": "execute_result"
    }
   ],
   "source": [
    "m=folium.Map(location=[46.227638, 2.213749])\n",
    "m"
   ]
  },
  {
   "cell_type": "code",
   "execution_count": 52,
   "metadata": {},
   "outputs": [
    {
     "data": {
      "text/html": [
       "<div style=\"width:100%;\"><div style=\"position:relative;width:100%;height:0;padding-bottom:60%;\"><iframe src=\"data:text/html;charset=utf-8;base64,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\" style=\"position:absolute;width:100%;height:100%;left:0;top:0;border:none !important;\" allowfullscreen webkitallowfullscreen mozallowfullscreen></iframe></div></div>"
      ],
      "text/plain": [
       "<folium.folium.Map at 0x1ece4402e80>"
      ]
     },
     "execution_count": 52,
     "metadata": {},
     "output_type": "execute_result"
    }
   ],
   "source": [
    "m=folium.Map(\n",
    "    location=[46.227638, 2.213749],\n",
    "    tiles='OpenStreetMap',\n",
    "    zoom_start=4\n",
    ")\n",
    "for posicion, lugar, puntos, diferencia, ubicacion in l:\n",
    "    folium.Marker(ubicacion, popup=lugar).add_to(m)\n",
    "    \n",
    "m"
   ]
  },
  {
   "cell_type": "code",
   "execution_count": 40,
   "metadata": {},
   "outputs": [
    {
     "data": {
      "text/html": [
       "<div style=\"width:100%;\"><div style=\"position:relative;width:100%;height:0;padding-bottom:60%;\"><iframe src=\"data:text/html;charset=utf-8;base64,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\" style=\"position:absolute;width:100%;height:100%;left:0;top:0;border:none !important;\" allowfullscreen webkitallowfullscreen mozallowfullscreen></iframe></div></div>"
      ],
      "text/plain": [
       "<folium.folium.Map at 0x1bf05692dd8>"
      ]
     },
     "execution_count": 40,
     "metadata": {},
     "output_type": "execute_result"
    }
   ],
   "source": [
    "t = folium.Map(location=[46.227638, 2.213749], tiles='CartoDB dark_matter', zoom_start=2)\n",
    "\n",
    "for posicion, lugar, puntos, diferencia, ubicacion in l:\n",
    "    folium.Marker(ubicacion, popup=posicion+' '+lugar+' = '+puntos).add_to(t)\n",
    "    \n",
    "for posicion, lugar, puntos, diferencia, ubicacion in l:\n",
    "    folium.Circle(ubicacion, popup=posicion+' '+lugar+' = '+puntos, color='red', fill=True, radius=100000\n",
    "                 ).add_to(t)\n",
    "t"
   ]
  },
  {
   "cell_type": "code",
   "execution_count": null,
   "metadata": {},
   "outputs": [],
   "source": []
  }
 ],
 "metadata": {
  "kernelspec": {
   "display_name": "Python 3",
   "language": "python",
   "name": "python3"
  },
  "language_info": {
   "codemirror_mode": {
    "name": "ipython",
    "version": 3
   },
   "file_extension": ".py",
   "mimetype": "text/x-python",
   "name": "python",
   "nbconvert_exporter": "python",
   "pygments_lexer": "ipython3",
   "version": "3.6.5"
  }
 },
 "nbformat": 4,
 "nbformat_minor": 2
}
